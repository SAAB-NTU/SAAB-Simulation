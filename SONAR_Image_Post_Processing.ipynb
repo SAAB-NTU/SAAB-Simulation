{
 "cells": [
  {
   "cell_type": "code",
   "execution_count": 1,
   "id": "91b4b179",
   "metadata": {},
   "outputs": [],
   "source": [
    "from glob import glob\n",
    "import pandas as pd\n",
    "import numpy as np\n",
    "import matplotlib.pyplot as plt\n",
    "import os\n",
    "import cv2"
   ]
  },
  {
   "cell_type": "code",
   "execution_count": null,
   "id": "6a078c80",
   "metadata": {},
   "outputs": [],
   "source": []
  },
  {
   "cell_type": "code",
   "execution_count": 25,
   "id": "f23611f4",
   "metadata": {},
   "outputs": [
    {
     "data": {
      "text/plain": [
       "['010922_021443\\\\000000_.csv',\n",
       " '010922_021443\\\\000001_.csv',\n",
       " '010922_021443\\\\000002_.csv',\n",
       " '010922_021443\\\\000003_.csv',\n",
       " '010922_021443\\\\000004_.csv',\n",
       " '010922_021443\\\\000005_.csv',\n",
       " '010922_021443\\\\000006_.csv',\n",
       " '010922_021443\\\\000007_.csv',\n",
       " '010922_021443\\\\000008_.csv',\n",
       " '010922_021443\\\\000009_.csv',\n",
       " '010922_021443\\\\000010_.csv',\n",
       " '010922_021443\\\\000011_.csv',\n",
       " '010922_021443\\\\000012_.csv',\n",
       " '010922_021443\\\\000013_.csv',\n",
       " '010922_021443\\\\000014_.csv',\n",
       " '010922_021443\\\\000015_.csv',\n",
       " '010922_021443\\\\000016_.csv',\n",
       " '010922_021443\\\\000017_.csv',\n",
       " '010922_021443\\\\000018_.csv',\n",
       " '010922_021443\\\\000019_.csv',\n",
       " '010922_021443\\\\000020_.csv',\n",
       " '010922_021443\\\\000021_.csv',\n",
       " '010922_021443\\\\000022_.csv',\n",
       " '010922_021443\\\\000023_.csv',\n",
       " '010922_021443\\\\000024_.csv',\n",
       " '010922_021443\\\\000025_.csv',\n",
       " '010922_021443\\\\000026_.csv',\n",
       " '010922_021443\\\\000027_.csv',\n",
       " '010922_021443\\\\000028_.csv',\n",
       " '010922_021443\\\\000029_.csv',\n",
       " '010922_021443\\\\000030_.csv',\n",
       " '010922_021443\\\\000031_.csv',\n",
       " '010922_021443\\\\000032_.csv',\n",
       " '010922_021443\\\\000033_.csv']"
      ]
     },
     "execution_count": 25,
     "metadata": {},
     "output_type": "execute_result"
    }
   ],
   "source": [
    "arrays=sorted(glob(\"010922_021443/*.csv\"))\n",
    "arrays"
   ]
  },
  {
   "cell_type": "code",
   "execution_count": 26,
   "id": "5090927e",
   "metadata": {},
   "outputs": [],
   "source": [
    "op=arrays[0].split(\"\\\\\")[0]+\"_output\"\n",
    "os.makedirs(op,exist_ok=True)"
   ]
  },
  {
   "cell_type": "code",
   "execution_count": 27,
   "id": "dbf49a59",
   "metadata": {},
   "outputs": [
    {
     "name": "stdout",
     "output_type": "stream",
     "text": [
      "(100, 100)\n",
      "(100, 100)\n",
      "(100, 100)\n",
      "(100, 100)\n",
      "(100, 100)\n",
      "(100, 100)\n",
      "(100, 100)\n",
      "(100, 100)\n",
      "(100, 100)\n",
      "(100, 100)\n",
      "(100, 100)\n",
      "(100, 100)\n",
      "(100, 100)\n",
      "(100, 100)\n",
      "(100, 100)\n",
      "(100, 100)\n",
      "(100, 100)\n",
      "(100, 100)\n",
      "(100, 100)\n",
      "(100, 100)\n",
      "(100, 100)\n",
      "(100, 100)\n",
      "(100, 100)\n",
      "(100, 100)\n",
      "(100, 100)\n",
      "(100, 100)\n",
      "(100, 100)\n",
      "(100, 100)\n",
      "(100, 100)\n",
      "(100, 100)\n",
      "(100, 100)\n",
      "(100, 100)\n",
      "(100, 100)\n",
      "(100, 100)\n"
     ]
    }
   ],
   "source": [
    "lst=[]\n",
    "for arr in arrays:\n",
    "    a=pd.read_csv(arr,header=None)\n",
    "    a=a.fillna(0)\n",
    "    p=np.array(a)\n",
    "    print(p.shape)\n",
    "    plt.imsave(op+\"\\\\\"+arr.split(\"\\\\\")[-1].split(\"_\")[0]+\".png\",p,cmap=\"gray_r\")"
   ]
  },
  {
   "cell_type": "code",
   "execution_count": 28,
   "id": "48019e73",
   "metadata": {},
   "outputs": [
    {
     "data": {
      "text/html": [
       "<div>\n",
       "<style scoped>\n",
       "    .dataframe tbody tr th:only-of-type {\n",
       "        vertical-align: middle;\n",
       "    }\n",
       "\n",
       "    .dataframe tbody tr th {\n",
       "        vertical-align: top;\n",
       "    }\n",
       "\n",
       "    .dataframe thead th {\n",
       "        text-align: right;\n",
       "    }\n",
       "</style>\n",
       "<table border=\"1\" class=\"dataframe\">\n",
       "  <thead>\n",
       "    <tr style=\"text-align: right;\">\n",
       "      <th></th>\n",
       "      <th>0</th>\n",
       "      <th>1</th>\n",
       "      <th>2</th>\n",
       "      <th>3</th>\n",
       "      <th>4</th>\n",
       "      <th>5</th>\n",
       "      <th>6</th>\n",
       "      <th>7</th>\n",
       "      <th>8</th>\n",
       "      <th>9</th>\n",
       "      <th>...</th>\n",
       "      <th>90</th>\n",
       "      <th>91</th>\n",
       "      <th>92</th>\n",
       "      <th>93</th>\n",
       "      <th>94</th>\n",
       "      <th>95</th>\n",
       "      <th>96</th>\n",
       "      <th>97</th>\n",
       "      <th>98</th>\n",
       "      <th>99</th>\n",
       "    </tr>\n",
       "  </thead>\n",
       "  <tbody>\n",
       "    <tr>\n",
       "      <th>0</th>\n",
       "      <td>-402.4785</td>\n",
       "      <td>-508.9664</td>\n",
       "      <td>-554.4897</td>\n",
       "      <td>-584.1454</td>\n",
       "      <td>-606.2397</td>\n",
       "      <td>-623.8779</td>\n",
       "      <td>-638.5712</td>\n",
       "      <td>-651.1713</td>\n",
       "      <td>-662.2065</td>\n",
       "      <td>-672.0266</td>\n",
       "      <td>...</td>\n",
       "      <td>-879.9444</td>\n",
       "      <td>-881.048</td>\n",
       "      <td>-882.1417</td>\n",
       "      <td>-883.2246</td>\n",
       "      <td>-884.2982</td>\n",
       "      <td>-885.3619</td>\n",
       "      <td>-886.4158</td>\n",
       "      <td>-887.4609</td>\n",
       "      <td>-888.4962</td>\n",
       "      <td>-889.5232</td>\n",
       "    </tr>\n",
       "    <tr>\n",
       "      <th>1</th>\n",
       "      <td>-402.4785</td>\n",
       "      <td>-508.9664</td>\n",
       "      <td>-554.4897</td>\n",
       "      <td>-584.1454</td>\n",
       "      <td>-606.2397</td>\n",
       "      <td>-623.8779</td>\n",
       "      <td>-638.5712</td>\n",
       "      <td>-651.1713</td>\n",
       "      <td>-662.2065</td>\n",
       "      <td>-672.0266</td>\n",
       "      <td>...</td>\n",
       "      <td>-879.9444</td>\n",
       "      <td>-881.048</td>\n",
       "      <td>-882.1417</td>\n",
       "      <td>-883.2246</td>\n",
       "      <td>-884.2982</td>\n",
       "      <td>-885.3619</td>\n",
       "      <td>-886.4158</td>\n",
       "      <td>-887.4609</td>\n",
       "      <td>-888.4962</td>\n",
       "      <td>-889.5232</td>\n",
       "    </tr>\n",
       "    <tr>\n",
       "      <th>2</th>\n",
       "      <td>-402.4785</td>\n",
       "      <td>-508.9664</td>\n",
       "      <td>-554.4897</td>\n",
       "      <td>-584.1454</td>\n",
       "      <td>-606.2397</td>\n",
       "      <td>-623.8779</td>\n",
       "      <td>-638.5712</td>\n",
       "      <td>-651.1713</td>\n",
       "      <td>-662.2065</td>\n",
       "      <td>-672.0266</td>\n",
       "      <td>...</td>\n",
       "      <td>-879.9444</td>\n",
       "      <td>-881.048</td>\n",
       "      <td>-882.1417</td>\n",
       "      <td>-883.2246</td>\n",
       "      <td>-884.2982</td>\n",
       "      <td>-885.3619</td>\n",
       "      <td>-886.4158</td>\n",
       "      <td>-887.4609</td>\n",
       "      <td>-888.4962</td>\n",
       "      <td>-889.5232</td>\n",
       "    </tr>\n",
       "    <tr>\n",
       "      <th>3</th>\n",
       "      <td>-402.4785</td>\n",
       "      <td>-508.9664</td>\n",
       "      <td>-554.4897</td>\n",
       "      <td>-584.1454</td>\n",
       "      <td>-606.2397</td>\n",
       "      <td>-623.8779</td>\n",
       "      <td>-638.5712</td>\n",
       "      <td>-651.1713</td>\n",
       "      <td>-662.2065</td>\n",
       "      <td>-672.0266</td>\n",
       "      <td>...</td>\n",
       "      <td>-879.9444</td>\n",
       "      <td>-881.048</td>\n",
       "      <td>-882.1417</td>\n",
       "      <td>-883.2246</td>\n",
       "      <td>-884.2982</td>\n",
       "      <td>-885.3619</td>\n",
       "      <td>-886.4158</td>\n",
       "      <td>-887.4609</td>\n",
       "      <td>-888.4962</td>\n",
       "      <td>-889.5232</td>\n",
       "    </tr>\n",
       "    <tr>\n",
       "      <th>4</th>\n",
       "      <td>-402.4785</td>\n",
       "      <td>-508.9664</td>\n",
       "      <td>-554.4897</td>\n",
       "      <td>-584.1454</td>\n",
       "      <td>-606.2397</td>\n",
       "      <td>-623.8779</td>\n",
       "      <td>-638.5712</td>\n",
       "      <td>-651.1713</td>\n",
       "      <td>-662.2065</td>\n",
       "      <td>-672.0266</td>\n",
       "      <td>...</td>\n",
       "      <td>-879.9444</td>\n",
       "      <td>-881.048</td>\n",
       "      <td>-882.1417</td>\n",
       "      <td>-883.2246</td>\n",
       "      <td>-884.2982</td>\n",
       "      <td>-885.3619</td>\n",
       "      <td>-886.4158</td>\n",
       "      <td>-887.4609</td>\n",
       "      <td>-888.4962</td>\n",
       "      <td>-889.5232</td>\n",
       "    </tr>\n",
       "    <tr>\n",
       "      <th>...</th>\n",
       "      <td>...</td>\n",
       "      <td>...</td>\n",
       "      <td>...</td>\n",
       "      <td>...</td>\n",
       "      <td>...</td>\n",
       "      <td>...</td>\n",
       "      <td>...</td>\n",
       "      <td>...</td>\n",
       "      <td>...</td>\n",
       "      <td>...</td>\n",
       "      <td>...</td>\n",
       "      <td>...</td>\n",
       "      <td>...</td>\n",
       "      <td>...</td>\n",
       "      <td>...</td>\n",
       "      <td>...</td>\n",
       "      <td>...</td>\n",
       "      <td>...</td>\n",
       "      <td>...</td>\n",
       "      <td>...</td>\n",
       "      <td>...</td>\n",
       "    </tr>\n",
       "    <tr>\n",
       "      <th>95</th>\n",
       "      <td>-402.4785</td>\n",
       "      <td>-508.9664</td>\n",
       "      <td>-554.4897</td>\n",
       "      <td>-584.1454</td>\n",
       "      <td>-606.2397</td>\n",
       "      <td>-623.8779</td>\n",
       "      <td>-638.5712</td>\n",
       "      <td>-651.1713</td>\n",
       "      <td>-662.2065</td>\n",
       "      <td>-672.0266</td>\n",
       "      <td>...</td>\n",
       "      <td>-879.9444</td>\n",
       "      <td>-881.048</td>\n",
       "      <td>-882.1417</td>\n",
       "      <td>-883.2246</td>\n",
       "      <td>-884.2982</td>\n",
       "      <td>-885.3619</td>\n",
       "      <td>-886.4158</td>\n",
       "      <td>-887.4609</td>\n",
       "      <td>-888.4962</td>\n",
       "      <td>-889.5232</td>\n",
       "    </tr>\n",
       "    <tr>\n",
       "      <th>96</th>\n",
       "      <td>-402.4785</td>\n",
       "      <td>-508.9664</td>\n",
       "      <td>-554.4897</td>\n",
       "      <td>-584.1454</td>\n",
       "      <td>-606.2397</td>\n",
       "      <td>-623.8779</td>\n",
       "      <td>-638.5712</td>\n",
       "      <td>-651.1713</td>\n",
       "      <td>-662.2065</td>\n",
       "      <td>-672.0266</td>\n",
       "      <td>...</td>\n",
       "      <td>-879.9444</td>\n",
       "      <td>-881.048</td>\n",
       "      <td>-882.1417</td>\n",
       "      <td>-883.2246</td>\n",
       "      <td>-884.2982</td>\n",
       "      <td>-885.3619</td>\n",
       "      <td>-886.4158</td>\n",
       "      <td>-887.4609</td>\n",
       "      <td>-888.4962</td>\n",
       "      <td>-889.5232</td>\n",
       "    </tr>\n",
       "    <tr>\n",
       "      <th>97</th>\n",
       "      <td>-402.4785</td>\n",
       "      <td>-508.9664</td>\n",
       "      <td>-554.4897</td>\n",
       "      <td>-584.1454</td>\n",
       "      <td>-606.2397</td>\n",
       "      <td>-623.8779</td>\n",
       "      <td>-638.5712</td>\n",
       "      <td>-651.1713</td>\n",
       "      <td>-662.2065</td>\n",
       "      <td>-672.0266</td>\n",
       "      <td>...</td>\n",
       "      <td>-879.9444</td>\n",
       "      <td>-881.048</td>\n",
       "      <td>-882.1417</td>\n",
       "      <td>-883.2246</td>\n",
       "      <td>-884.2982</td>\n",
       "      <td>-885.3619</td>\n",
       "      <td>-886.4158</td>\n",
       "      <td>-887.4609</td>\n",
       "      <td>-888.4962</td>\n",
       "      <td>-889.5232</td>\n",
       "    </tr>\n",
       "    <tr>\n",
       "      <th>98</th>\n",
       "      <td>-402.4785</td>\n",
       "      <td>-508.9664</td>\n",
       "      <td>-554.4897</td>\n",
       "      <td>-584.1454</td>\n",
       "      <td>-606.2397</td>\n",
       "      <td>-623.8779</td>\n",
       "      <td>-638.5712</td>\n",
       "      <td>-651.1713</td>\n",
       "      <td>-662.2065</td>\n",
       "      <td>-672.0266</td>\n",
       "      <td>...</td>\n",
       "      <td>-879.9444</td>\n",
       "      <td>-881.048</td>\n",
       "      <td>-882.1417</td>\n",
       "      <td>-883.2246</td>\n",
       "      <td>-884.2982</td>\n",
       "      <td>-885.3619</td>\n",
       "      <td>-886.4158</td>\n",
       "      <td>-887.4609</td>\n",
       "      <td>-888.4962</td>\n",
       "      <td>-889.5232</td>\n",
       "    </tr>\n",
       "    <tr>\n",
       "      <th>99</th>\n",
       "      <td>-402.4785</td>\n",
       "      <td>-508.9664</td>\n",
       "      <td>-554.4897</td>\n",
       "      <td>-584.1454</td>\n",
       "      <td>-606.2397</td>\n",
       "      <td>-623.8779</td>\n",
       "      <td>-638.5712</td>\n",
       "      <td>-651.1713</td>\n",
       "      <td>-662.2065</td>\n",
       "      <td>-672.0266</td>\n",
       "      <td>...</td>\n",
       "      <td>-879.9444</td>\n",
       "      <td>-881.048</td>\n",
       "      <td>-882.1417</td>\n",
       "      <td>-883.2246</td>\n",
       "      <td>-884.2982</td>\n",
       "      <td>-885.3619</td>\n",
       "      <td>-886.4158</td>\n",
       "      <td>-887.4609</td>\n",
       "      <td>-888.4962</td>\n",
       "      <td>-889.5232</td>\n",
       "    </tr>\n",
       "  </tbody>\n",
       "</table>\n",
       "<p>100 rows × 100 columns</p>\n",
       "</div>"
      ],
      "text/plain": [
       "          0         1         2         3         4         5         6   \\\n",
       "0  -402.4785 -508.9664 -554.4897 -584.1454 -606.2397 -623.8779 -638.5712   \n",
       "1  -402.4785 -508.9664 -554.4897 -584.1454 -606.2397 -623.8779 -638.5712   \n",
       "2  -402.4785 -508.9664 -554.4897 -584.1454 -606.2397 -623.8779 -638.5712   \n",
       "3  -402.4785 -508.9664 -554.4897 -584.1454 -606.2397 -623.8779 -638.5712   \n",
       "4  -402.4785 -508.9664 -554.4897 -584.1454 -606.2397 -623.8779 -638.5712   \n",
       "..       ...       ...       ...       ...       ...       ...       ...   \n",
       "95 -402.4785 -508.9664 -554.4897 -584.1454 -606.2397 -623.8779 -638.5712   \n",
       "96 -402.4785 -508.9664 -554.4897 -584.1454 -606.2397 -623.8779 -638.5712   \n",
       "97 -402.4785 -508.9664 -554.4897 -584.1454 -606.2397 -623.8779 -638.5712   \n",
       "98 -402.4785 -508.9664 -554.4897 -584.1454 -606.2397 -623.8779 -638.5712   \n",
       "99 -402.4785 -508.9664 -554.4897 -584.1454 -606.2397 -623.8779 -638.5712   \n",
       "\n",
       "          7         8         9   ...        90       91        92        93  \\\n",
       "0  -651.1713 -662.2065 -672.0266  ... -879.9444 -881.048 -882.1417 -883.2246   \n",
       "1  -651.1713 -662.2065 -672.0266  ... -879.9444 -881.048 -882.1417 -883.2246   \n",
       "2  -651.1713 -662.2065 -672.0266  ... -879.9444 -881.048 -882.1417 -883.2246   \n",
       "3  -651.1713 -662.2065 -672.0266  ... -879.9444 -881.048 -882.1417 -883.2246   \n",
       "4  -651.1713 -662.2065 -672.0266  ... -879.9444 -881.048 -882.1417 -883.2246   \n",
       "..       ...       ...       ...  ...       ...      ...       ...       ...   \n",
       "95 -651.1713 -662.2065 -672.0266  ... -879.9444 -881.048 -882.1417 -883.2246   \n",
       "96 -651.1713 -662.2065 -672.0266  ... -879.9444 -881.048 -882.1417 -883.2246   \n",
       "97 -651.1713 -662.2065 -672.0266  ... -879.9444 -881.048 -882.1417 -883.2246   \n",
       "98 -651.1713 -662.2065 -672.0266  ... -879.9444 -881.048 -882.1417 -883.2246   \n",
       "99 -651.1713 -662.2065 -672.0266  ... -879.9444 -881.048 -882.1417 -883.2246   \n",
       "\n",
       "          94        95        96        97        98        99  \n",
       "0  -884.2982 -885.3619 -886.4158 -887.4609 -888.4962 -889.5232  \n",
       "1  -884.2982 -885.3619 -886.4158 -887.4609 -888.4962 -889.5232  \n",
       "2  -884.2982 -885.3619 -886.4158 -887.4609 -888.4962 -889.5232  \n",
       "3  -884.2982 -885.3619 -886.4158 -887.4609 -888.4962 -889.5232  \n",
       "4  -884.2982 -885.3619 -886.4158 -887.4609 -888.4962 -889.5232  \n",
       "..       ...       ...       ...       ...       ...       ...  \n",
       "95 -884.2982 -885.3619 -886.4158 -887.4609 -888.4962 -889.5232  \n",
       "96 -884.2982 -885.3619 -886.4158 -887.4609 -888.4962 -889.5232  \n",
       "97 -884.2982 -885.3619 -886.4158 -887.4609 -888.4962 -889.5232  \n",
       "98 -884.2982 -885.3619 -886.4158 -887.4609 -888.4962 -889.5232  \n",
       "99 -884.2982 -885.3619 -886.4158 -887.4609 -888.4962 -889.5232  \n",
       "\n",
       "[100 rows x 100 columns]"
      ]
     },
     "execution_count": 28,
     "metadata": {},
     "output_type": "execute_result"
    }
   ],
   "source": [
    "a=pd.read_csv(arr,header=None)\n",
    "a=a.fillna(0)\n",
    "a"
   ]
  },
  {
   "cell_type": "code",
   "execution_count": 29,
   "id": "9d21702d",
   "metadata": {},
   "outputs": [],
   "source": [
    "x=np.array(a)"
   ]
  },
  {
   "cell_type": "code",
   "execution_count": 30,
   "id": "75412798",
   "metadata": {},
   "outputs": [],
   "source": [
    "lst=[]\n",
    "for i in range(100):\n",
    "    lst.append(-70/2+i*70/(100-1))"
   ]
  },
  {
   "cell_type": "code",
   "execution_count": 31,
   "id": "1c45c3cc",
   "metadata": {},
   "outputs": [],
   "source": [
    "lst_cos=np.cos(np.deg2rad(np.array(lst)))\n",
    "lst_sin=np.sin(np.deg2rad(np.array(lst)))\n",
    "#l_c=np.dot(x,lst_cos)\n",
    "#l_s=np.dot(x,lst_sin)"
   ]
  },
  {
   "cell_type": "code",
   "execution_count": 32,
   "id": "2149bf5d",
   "metadata": {},
   "outputs": [],
   "source": [
    "lst_cos_2=lst_cos.reshape([100,1])\n",
    "lst_sin_2=lst_sin.reshape([100,1])"
   ]
  },
  {
   "cell_type": "code",
   "execution_count": 33,
   "id": "cb500395",
   "metadata": {},
   "outputs": [],
   "source": [
    "tra=np.dot(lst_cos_2,lst_sin_2.T)"
   ]
  },
  {
   "cell_type": "code",
   "execution_count": 34,
   "id": "ab9c6138",
   "metadata": {},
   "outputs": [
    {
     "data": {
      "text/plain": [
       "array([[-0.46984631, -0.46153   , -0.45314341, ...,  0.45314341,\n",
       "         0.46153   ,  0.46984631],\n",
       "       [-0.4738704 , -0.46548287, -0.45702444, ...,  0.45702444,\n",
       "         0.46548287,  0.4738704 ],\n",
       "       [-0.47782232, -0.46936484, -0.46083588, ...,  0.46083588,\n",
       "         0.46936484,  0.47782232],\n",
       "       ...,\n",
       "       [-0.47782232, -0.46936484, -0.46083588, ...,  0.46083588,\n",
       "         0.46936484,  0.47782232],\n",
       "       [-0.4738704 , -0.46548287, -0.45702444, ...,  0.45702444,\n",
       "         0.46548287,  0.4738704 ],\n",
       "       [-0.46984631, -0.46153   , -0.45314341, ...,  0.45314341,\n",
       "         0.46153   ,  0.46984631]])"
      ]
     },
     "execution_count": 34,
     "metadata": {},
     "output_type": "execute_result"
    }
   ],
   "source": [
    "tra"
   ]
  },
  {
   "cell_type": "code",
   "execution_count": 35,
   "id": "0f7e8397",
   "metadata": {},
   "outputs": [
    {
     "data": {
      "text/plain": [
       "<matplotlib.image.AxesImage at 0x1f3c08aac40>"
      ]
     },
     "execution_count": 35,
     "metadata": {},
     "output_type": "execute_result"
    },
    {
     "data": {
      "image/png": "[encoded data removed]",
      "text/plain": [
       "<Figure size 1440x1440 with 1 Axes>"
      ]
     },
     "metadata": {
      "needs_background": "light"
     },
     "output_type": "display_data"
    }
   ],
   "source": [
    "plt.figure(figsize=(20,20))\n",
    "plt.imshow(x,cmap=\"gray_r\")"
   ]
  },
  {
   "cell_type": "code",
   "execution_count": 149,
   "id": "dcb160fc",
   "metadata": {},
   "outputs": [],
   "source": [
    "from skimage.transform import warp_polar\n",
    "import cv2 as cv\n",
    "z=cv.warpPolar(x[25:75,:], (50, 180), (0, 50), 50, cv.INTER_LINEAR + cv.WARP_POLAR_LINEAR)\n",
    "y=warp_polar(x[:,25:75], radius=50,center=[50,0],output_shape=[180,100])"
   ]
  },
  {
   "cell_type": "code",
   "execution_count": 150,
   "id": "2c410fea",
   "metadata": {},
   "outputs": [
    {
     "data": {
      "text/plain": [
       "<matplotlib.image.AxesImage at 0x1fdd9319bb0>"
      ]
     },
     "execution_count": 150,
     "metadata": {},
     "output_type": "execute_result"
    },
    {
     "name": "stderr",
     "output_type": "stream",
     "text": [
      "C:\\ProgramData\\Anaconda3\\lib\\site-packages\\matplotlib\\image.py:446: RuntimeWarning: overflow encountered in double_scalars\n",
      "  newmin = vmid - dv * fact\n",
      "C:\\ProgramData\\Anaconda3\\lib\\site-packages\\matplotlib\\image.py:451: RuntimeWarning: overflow encountered in double_scalars\n",
      "  newmax = vmid + dv * fact\n"
     ]
    },
    {
     "data": {
      "image/png": "[encoded data removed]",
      "text/plain": [
       "<Figure size 1440x1440 with 1 Axes>"
      ]
     },
     "metadata": {
      "needs_background": "light"
     },
     "output_type": "display_data"
    }
   ],
   "source": [
    "plt.figure(figsize=(20,20))\n",
    "plt.imshow(z,cmap=\"gray\")"
   ]
  },
  {
   "cell_type": "code",
   "execution_count": 79,
   "id": "095f6aac",
   "metadata": {},
   "outputs": [
    {
     "data": {
      "text/plain": [
       "array([49.5, 49.5])"
      ]
     },
     "execution_count": 79,
     "metadata": {},
     "output_type": "execute_result"
    }
   ],
   "source": [
    "(np.array(x.shape)[:2] / 2) - 0.5"
   ]
  },
  {
   "cell_type": "code",
   "execution_count": 44,
   "id": "73b3a611",
   "metadata": {},
   "outputs": [
    {
     "name": "stderr",
     "output_type": "stream",
     "text": [
      "C:\\Users\\abuba\\AppData\\Local\\Temp/ipykernel_9528/1479748123.py:50: DeprecationWarning: `np.object` is a deprecated alias for the builtin `object`. To silence this warning, use `object` by itself. Doing this will not modify any behavior and is safe. \n",
      "Deprecated in NumPy 1.20; for more details and guidance: https://numpy.org/devdocs/release/1.20.0-notes.html#deprecations\n",
      "  axes = np.zeros((2, 4), dtype=np.object)\n"
     ]
    },
    {
     "ename": "NameError",
     "evalue": "name 'img_adapteq' is not defined",
     "output_type": "error",
     "traceback": [
      "\u001b[1;31m---------------------------------------------------------------------------\u001b[0m",
      "\u001b[1;31mNameError\u001b[0m                                 Traceback (most recent call last)",
      "\u001b[1;32m~\\AppData\\Local\\Temp/ipykernel_9528/1479748123.py\u001b[0m in \u001b[0;36m<module>\u001b[1;34m\u001b[0m\n\u001b[0;32m     68\u001b[0m \u001b[0max_img\u001b[0m\u001b[1;33m.\u001b[0m\u001b[0mset_title\u001b[0m\u001b[1;33m(\u001b[0m\u001b[1;34m'Histogram equalization'\u001b[0m\u001b[1;33m)\u001b[0m\u001b[1;33m\u001b[0m\u001b[1;33m\u001b[0m\u001b[0m\n\u001b[0;32m     69\u001b[0m \u001b[1;33m\u001b[0m\u001b[0m\n\u001b[1;32m---> 70\u001b[1;33m \u001b[0max_img\u001b[0m\u001b[1;33m,\u001b[0m \u001b[0max_hist\u001b[0m\u001b[1;33m,\u001b[0m \u001b[0max_cdf\u001b[0m \u001b[1;33m=\u001b[0m \u001b[0mplot_img_and_hist\u001b[0m\u001b[1;33m(\u001b[0m\u001b[0mimg_adapteq\u001b[0m\u001b[1;33m,\u001b[0m \u001b[0maxes\u001b[0m\u001b[1;33m[\u001b[0m\u001b[1;33m:\u001b[0m\u001b[1;33m,\u001b[0m \u001b[1;36m3\u001b[0m\u001b[1;33m]\u001b[0m\u001b[1;33m)\u001b[0m\u001b[1;33m\u001b[0m\u001b[1;33m\u001b[0m\u001b[0m\n\u001b[0m\u001b[0;32m     71\u001b[0m \u001b[0max_img\u001b[0m\u001b[1;33m.\u001b[0m\u001b[0mset_title\u001b[0m\u001b[1;33m(\u001b[0m\u001b[1;34m'Adaptive equalization'\u001b[0m\u001b[1;33m)\u001b[0m\u001b[1;33m\u001b[0m\u001b[1;33m\u001b[0m\u001b[0m\n\u001b[0;32m     72\u001b[0m \u001b[1;33m\u001b[0m\u001b[0m\n",
      "\u001b[1;31mNameError\u001b[0m: name 'img_adapteq' is not defined"
     ]
    },
    {
     "data": {
      "image/png": "[encoded data removed]",
      "text/plain": [
       "<Figure size 576x360 with 11 Axes>"
      ]
     },
     "metadata": {
      "needs_background": "light"
     },
     "output_type": "display_data"
    }
   ],
   "source": [
    "from skimage import data, img_as_float\n",
    "from skimage import exposure\n",
    "import matplotlib\n",
    "\n",
    "matplotlib.rcParams['font.size'] = 8\n",
    "\n",
    "\n",
    "def plot_img_and_hist(image, axes, bins=256):\n",
    "    \"\"\"Plot an image along with its histogram and cumulative histogram.\n",
    "\n",
    "    \"\"\"\n",
    "    image = img_as_float(image)\n",
    "    ax_img, ax_hist = axes\n",
    "    ax_cdf = ax_hist.twinx()\n",
    "\n",
    "    # Display image\n",
    "    ax_img.imshow(image, cmap=plt.cm.gray)\n",
    "    ax_img.set_axis_off()\n",
    "\n",
    "    # Display histogram\n",
    "    ax_hist.hist(image.ravel(), bins=bins, histtype='step', color='black')\n",
    "    ax_hist.ticklabel_format(axis='y', style='scientific', scilimits=(0, 0))\n",
    "    ax_hist.set_xlabel('Pixel intensity')\n",
    "    ax_hist.set_xlim(0, 1)\n",
    "    ax_hist.set_yticks([])\n",
    "\n",
    "    # Display cumulative distribution\n",
    "    img_cdf, bins = exposure.cumulative_distribution(image, bins)\n",
    "    ax_cdf.plot(bins, img_cdf, 'r')\n",
    "    ax_cdf.set_yticks([])\n",
    "\n",
    "    return ax_img, ax_hist, ax_cdf\n",
    "\n",
    "\n",
    "# Load an example image\n",
    "img = x\n",
    "\n",
    "# Contrast stretching\n",
    "p2, p98 = np.percentile(img, (2, 98))\n",
    "img_rescale = exposure.rescale_intensity(img, in_range=(p2, p98))\n",
    "\n",
    "# Equalization\n",
    "img_eq = exposure.equalize_hist(img)\n",
    "\n",
    "# Adaptive Equalization\n",
    "#img_adapteq = exposure.equalize_adapthist(img, clip_limit=0.03)\n",
    "\n",
    "# Display results\n",
    "fig = plt.figure(figsize=(8, 5))\n",
    "axes = np.zeros((2, 4), dtype=np.object)\n",
    "axes[0, 0] = fig.add_subplot(2, 4, 1)\n",
    "for i in range(1, 4):\n",
    "    axes[0, i] = fig.add_subplot(2, 4, 1+i, sharex=axes[0,0], sharey=axes[0,0])\n",
    "for i in range(0, 4):\n",
    "    axes[1, i] = fig.add_subplot(2, 4, 5+i)\n",
    "\n",
    "ax_img, ax_hist, ax_cdf = plot_img_and_hist(img, axes[:, 0])\n",
    "ax_img.set_title('Low contrast image')\n",
    "\n",
    "y_min, y_max = ax_hist.get_ylim()\n",
    "ax_hist.set_ylabel('Number of pixels')\n",
    "ax_hist.set_yticks(np.linspace(0, y_max, 5))\n",
    "\n",
    "ax_img, ax_hist, ax_cdf = plot_img_and_hist(img_rescale, axes[:, 1])\n",
    "ax_img.set_title('Contrast stretching')\n",
    "\n",
    "ax_img, ax_hist, ax_cdf = plot_img_and_hist(img_eq, axes[:, 2])\n",
    "ax_img.set_title('Histogram equalization')\n",
    "\n",
    "ax_img, ax_hist, ax_cdf = plot_img_and_hist(img_adapteq, axes[:, 3])\n",
    "ax_img.set_title('Adaptive equalization')\n",
    "\n",
    "ax_cdf.set_ylabel('Fraction of total intensity')\n",
    "ax_cdf.set_yticks(np.linspace(0, 1, 5))\n",
    "\n",
    "# prevent overlap of y-axis labels\n",
    "fig.tight_layout()\n",
    "plt.show()"
   ]
  },
  {
   "cell_type": "code",
   "execution_count": 17,
   "id": "3170f317",
   "metadata": {},
   "outputs": [
    {
     "ename": "NameError",
     "evalue": "name 'img_eq' is not defined",
     "output_type": "error",
     "traceback": [
      "\u001b[1;31m---------------------------------------------------------------------------\u001b[0m",
      "\u001b[1;31mNameError\u001b[0m                                 Traceback (most recent call last)",
      "\u001b[1;32m~\\AppData\\Local\\Temp/ipykernel_11612/1287761389.py\u001b[0m in \u001b[0;36m<module>\u001b[1;34m\u001b[0m\n\u001b[0;32m      1\u001b[0m \u001b[0mplt\u001b[0m\u001b[1;33m.\u001b[0m\u001b[0mfigure\u001b[0m\u001b[1;33m(\u001b[0m\u001b[0mfigsize\u001b[0m\u001b[1;33m=\u001b[0m\u001b[1;33m(\u001b[0m\u001b[1;36m20\u001b[0m\u001b[1;33m,\u001b[0m\u001b[1;36m20\u001b[0m\u001b[1;33m)\u001b[0m\u001b[1;33m)\u001b[0m\u001b[1;33m\u001b[0m\u001b[1;33m\u001b[0m\u001b[0m\n\u001b[1;32m----> 2\u001b[1;33m \u001b[0mplt\u001b[0m\u001b[1;33m.\u001b[0m\u001b[0mimshow\u001b[0m\u001b[1;33m(\u001b[0m\u001b[0mimg_eq\u001b[0m\u001b[1;33m,\u001b[0m\u001b[1;34m\"gray\"\u001b[0m\u001b[1;33m)\u001b[0m\u001b[1;33m\u001b[0m\u001b[1;33m\u001b[0m\u001b[0m\n\u001b[0m",
      "\u001b[1;31mNameError\u001b[0m: name 'img_eq' is not defined"
     ]
    },
    {
     "data": {
      "text/plain": [
       "<Figure size 1440x1440 with 0 Axes>"
      ]
     },
     "metadata": {},
     "output_type": "display_data"
    }
   ],
   "source": [
    "plt.figure(figsize=(20,20))\n",
    "plt.imshow(img_eq,\"gray\")"
   ]
  },
  {
   "cell_type": "code",
   "execution_count": 33,
   "id": "728bfbfe",
   "metadata": {},
   "outputs": [],
   "source": [
    "fourcc = cv2.VideoWriter_fourcc(*'mp4v') \n",
    "video = cv2.VideoWriter('video_5.avi', fourcc, 2, (100, 100))\n",
    "\n",
    "for j in sorted(glob((\"220722_032104_output/*\"))):\n",
    "    img = cv2.imread(j)\n",
    "    video.write(img)\n",
    "video.release()"
   ]
  },
  {
   "cell_type": "code",
   "execution_count": null,
   "id": "404a0283",
   "metadata": {},
   "outputs": [],
   "source": []
  }
 ],
 "metadata": {
  "kernelspec": {
   "display_name": "Python 3 (ipykernel)",
   "language": "python",
   "name": "python3"
  },
  "language_info": {
   "codemirror_mode": {
    "name": "ipython",
    "version": 3
   },
   "file_extension": ".py",
   "mimetype": "text/x-python",
   "name": "python",
   "nbconvert_exporter": "python",
   "pygments_lexer": "ipython3",
   "version": "3.9.7"
  }
 },
 "nbformat": 4,
 "nbformat_minor": 5
}
