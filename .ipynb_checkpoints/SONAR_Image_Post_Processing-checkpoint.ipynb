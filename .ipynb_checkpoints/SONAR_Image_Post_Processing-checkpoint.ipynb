{
 "cells": [
  {
   "cell_type": "code",
   "execution_count": 1,
   "id": "91b4b179",
   "metadata": {},
   "outputs": [],
   "source": [
    "from glob import glob\n",
    "import pandas as pd\n",
    "import numpy as np\n",
    "import matplotlib.pyplot as plt\n",
    "import os\n",
    "import cv2\n",
    "import json"
   ]
  },
  {
   "cell_type": "code",
   "execution_count": null,
   "id": "2dda277a",
   "metadata": {},
   "outputs": [],
   "source": [
    "arrays=sorted(glob(\"291222_042642 Cube (1)/*.json\"))"
   ]
  },
  {
   "cell_type": "code",
   "execution_count": 102,
   "id": "5090927e",
   "metadata": {},
   "outputs": [],
   "source": [
    "op=arrays[0].split(\"\\\\\")[0]+\"_output\"\n",
    "os.makedirs(op,exist_ok=True)\n",
    "f = open(arrays[-1])\n",
    "data = json.load(f)"
   ]
  },
  {
   "cell_type": "code",
   "execution_count": 103,
   "id": "dbf49a59",
   "metadata": {},
   "outputs": [
    {
     "name": "stdout",
     "output_type": "stream",
     "text": [
      "(200, 1000)\n",
      "(200, 1000)\n",
      "(200, 1000)\n",
      "(200, 1000)\n",
      "(200, 1000)\n",
      "(200, 1000)\n"
     ]
    }
   ],
   "source": [
    "lst=[]\n",
    "for arr in arrays:\n",
    "    a=pd.read_csv(arr,header=None)\n",
    "    a=a.fillna(0)\n",
    "    p=np.array(a)\n",
    "    print(p.shape)\n",
    "    plt.imsave(op+\"\\\\\"+arr.split(\"\\\\\")[-1].split(\"_\")[0]+\".png\",p,cmap=\"gray_r\")"
   ]
  },
  {
   "cell_type": "code",
   "execution_count": 104,
   "id": "48019e73",
   "metadata": {},
   "outputs": [
    {
     "data": {
      "text/html": [
       "<div>\n",
       "<style scoped>\n",
       "    .dataframe tbody tr th:only-of-type {\n",
       "        vertical-align: middle;\n",
       "    }\n",
       "\n",
       "    .dataframe tbody tr th {\n",
       "        vertical-align: top;\n",
       "    }\n",
       "\n",
       "    .dataframe thead th {\n",
       "        text-align: right;\n",
       "    }\n",
       "</style>\n",
       "<table border=\"1\" class=\"dataframe\">\n",
       "  <thead>\n",
       "    <tr style=\"text-align: right;\">\n",
       "      <th></th>\n",
       "      <th>0</th>\n",
       "      <th>1</th>\n",
       "      <th>2</th>\n",
       "      <th>3</th>\n",
       "      <th>4</th>\n",
       "      <th>5</th>\n",
       "      <th>6</th>\n",
       "      <th>7</th>\n",
       "      <th>8</th>\n",
       "      <th>9</th>\n",
       "      <th>...</th>\n",
       "      <th>990</th>\n",
       "      <th>991</th>\n",
       "      <th>992</th>\n",
       "      <th>993</th>\n",
       "      <th>994</th>\n",
       "      <th>995</th>\n",
       "      <th>996</th>\n",
       "      <th>997</th>\n",
       "      <th>998</th>\n",
       "      <th>999</th>\n",
       "    </tr>\n",
       "  </thead>\n",
       "  <tbody>\n",
       "    <tr>\n",
       "      <th>0</th>\n",
       "      <td>-907.2341</td>\n",
       "      <td>-1226.295</td>\n",
       "      <td>-1362.462</td>\n",
       "      <td>-1451.026</td>\n",
       "      <td>-1516.905</td>\n",
       "      <td>-1569.416</td>\n",
       "      <td>-1613.093</td>\n",
       "      <td>-1650.491</td>\n",
       "      <td>-1683.193</td>\n",
       "      <td>-1712.251</td>\n",
       "      <td>...</td>\n",
       "      <td>-2967.189</td>\n",
       "      <td>-2967.495</td>\n",
       "      <td>-2967.796</td>\n",
       "      <td>-2968.115</td>\n",
       "      <td>-2968.413</td>\n",
       "      <td>-2968.728</td>\n",
       "      <td>-2969.027</td>\n",
       "      <td>-2969.333</td>\n",
       "      <td>-2969.648</td>\n",
       "      <td>-2969.947</td>\n",
       "    </tr>\n",
       "    <tr>\n",
       "      <th>1</th>\n",
       "      <td>-907.2341</td>\n",
       "      <td>-1226.295</td>\n",
       "      <td>-1362.462</td>\n",
       "      <td>-1451.026</td>\n",
       "      <td>-1516.905</td>\n",
       "      <td>-1569.416</td>\n",
       "      <td>-1613.093</td>\n",
       "      <td>-1650.491</td>\n",
       "      <td>-1683.193</td>\n",
       "      <td>-1712.251</td>\n",
       "      <td>...</td>\n",
       "      <td>-2967.189</td>\n",
       "      <td>-2967.495</td>\n",
       "      <td>-2967.796</td>\n",
       "      <td>-2968.115</td>\n",
       "      <td>-2968.413</td>\n",
       "      <td>-2968.728</td>\n",
       "      <td>-2969.027</td>\n",
       "      <td>-2969.333</td>\n",
       "      <td>-2969.648</td>\n",
       "      <td>-2969.947</td>\n",
       "    </tr>\n",
       "    <tr>\n",
       "      <th>2</th>\n",
       "      <td>-907.2341</td>\n",
       "      <td>-1226.295</td>\n",
       "      <td>-1362.462</td>\n",
       "      <td>-1451.026</td>\n",
       "      <td>-1516.905</td>\n",
       "      <td>-1569.416</td>\n",
       "      <td>-1613.093</td>\n",
       "      <td>-1650.491</td>\n",
       "      <td>-1683.193</td>\n",
       "      <td>-1712.251</td>\n",
       "      <td>...</td>\n",
       "      <td>-2967.189</td>\n",
       "      <td>-2967.495</td>\n",
       "      <td>-2967.796</td>\n",
       "      <td>-2968.115</td>\n",
       "      <td>-2968.413</td>\n",
       "      <td>-2968.728</td>\n",
       "      <td>-2969.027</td>\n",
       "      <td>-2969.333</td>\n",
       "      <td>-2969.648</td>\n",
       "      <td>-2969.947</td>\n",
       "    </tr>\n",
       "    <tr>\n",
       "      <th>3</th>\n",
       "      <td>-907.2341</td>\n",
       "      <td>-1226.295</td>\n",
       "      <td>-1362.462</td>\n",
       "      <td>-1451.026</td>\n",
       "      <td>-1516.905</td>\n",
       "      <td>-1569.416</td>\n",
       "      <td>-1613.093</td>\n",
       "      <td>-1650.491</td>\n",
       "      <td>-1683.193</td>\n",
       "      <td>-1712.251</td>\n",
       "      <td>...</td>\n",
       "      <td>-2967.189</td>\n",
       "      <td>-2967.495</td>\n",
       "      <td>-2967.796</td>\n",
       "      <td>-2968.115</td>\n",
       "      <td>-2968.413</td>\n",
       "      <td>-2968.728</td>\n",
       "      <td>-2969.027</td>\n",
       "      <td>-2969.333</td>\n",
       "      <td>-2969.648</td>\n",
       "      <td>-2969.947</td>\n",
       "    </tr>\n",
       "    <tr>\n",
       "      <th>4</th>\n",
       "      <td>-907.2341</td>\n",
       "      <td>-1226.295</td>\n",
       "      <td>-1362.462</td>\n",
       "      <td>-1451.026</td>\n",
       "      <td>-1516.905</td>\n",
       "      <td>-1569.416</td>\n",
       "      <td>-1613.093</td>\n",
       "      <td>-1650.491</td>\n",
       "      <td>-1683.193</td>\n",
       "      <td>-1712.251</td>\n",
       "      <td>...</td>\n",
       "      <td>-2967.189</td>\n",
       "      <td>-2967.495</td>\n",
       "      <td>-2967.796</td>\n",
       "      <td>-2968.115</td>\n",
       "      <td>-2968.413</td>\n",
       "      <td>-2968.728</td>\n",
       "      <td>-2969.027</td>\n",
       "      <td>-2969.333</td>\n",
       "      <td>-2969.648</td>\n",
       "      <td>-2969.947</td>\n",
       "    </tr>\n",
       "    <tr>\n",
       "      <th>...</th>\n",
       "      <td>...</td>\n",
       "      <td>...</td>\n",
       "      <td>...</td>\n",
       "      <td>...</td>\n",
       "      <td>...</td>\n",
       "      <td>...</td>\n",
       "      <td>...</td>\n",
       "      <td>...</td>\n",
       "      <td>...</td>\n",
       "      <td>...</td>\n",
       "      <td>...</td>\n",
       "      <td>...</td>\n",
       "      <td>...</td>\n",
       "      <td>...</td>\n",
       "      <td>...</td>\n",
       "      <td>...</td>\n",
       "      <td>...</td>\n",
       "      <td>...</td>\n",
       "      <td>...</td>\n",
       "      <td>...</td>\n",
       "      <td>...</td>\n",
       "    </tr>\n",
       "    <tr>\n",
       "      <th>195</th>\n",
       "      <td>-907.2341</td>\n",
       "      <td>-1226.295</td>\n",
       "      <td>-1362.462</td>\n",
       "      <td>-1451.026</td>\n",
       "      <td>-1516.905</td>\n",
       "      <td>-1569.416</td>\n",
       "      <td>-1613.093</td>\n",
       "      <td>-1650.491</td>\n",
       "      <td>-1683.193</td>\n",
       "      <td>-1712.251</td>\n",
       "      <td>...</td>\n",
       "      <td>-2967.189</td>\n",
       "      <td>-2967.495</td>\n",
       "      <td>-2967.796</td>\n",
       "      <td>-2968.115</td>\n",
       "      <td>-2968.413</td>\n",
       "      <td>-2968.728</td>\n",
       "      <td>-2969.027</td>\n",
       "      <td>-2969.333</td>\n",
       "      <td>-2969.648</td>\n",
       "      <td>-2969.947</td>\n",
       "    </tr>\n",
       "    <tr>\n",
       "      <th>196</th>\n",
       "      <td>-907.2341</td>\n",
       "      <td>-1226.295</td>\n",
       "      <td>-1362.462</td>\n",
       "      <td>-1451.026</td>\n",
       "      <td>-1516.905</td>\n",
       "      <td>-1569.416</td>\n",
       "      <td>-1613.093</td>\n",
       "      <td>-1650.491</td>\n",
       "      <td>-1683.193</td>\n",
       "      <td>-1712.251</td>\n",
       "      <td>...</td>\n",
       "      <td>-2967.189</td>\n",
       "      <td>-2967.495</td>\n",
       "      <td>-2967.796</td>\n",
       "      <td>-2968.115</td>\n",
       "      <td>-2968.413</td>\n",
       "      <td>-2968.728</td>\n",
       "      <td>-2969.027</td>\n",
       "      <td>-2969.333</td>\n",
       "      <td>-2969.648</td>\n",
       "      <td>-2969.947</td>\n",
       "    </tr>\n",
       "    <tr>\n",
       "      <th>197</th>\n",
       "      <td>-907.2341</td>\n",
       "      <td>-1226.295</td>\n",
       "      <td>-1362.462</td>\n",
       "      <td>-1451.026</td>\n",
       "      <td>-1516.905</td>\n",
       "      <td>-1569.416</td>\n",
       "      <td>-1613.093</td>\n",
       "      <td>-1650.491</td>\n",
       "      <td>-1683.193</td>\n",
       "      <td>-1712.251</td>\n",
       "      <td>...</td>\n",
       "      <td>-2967.189</td>\n",
       "      <td>-2967.495</td>\n",
       "      <td>-2967.796</td>\n",
       "      <td>-2968.115</td>\n",
       "      <td>-2968.413</td>\n",
       "      <td>-2968.728</td>\n",
       "      <td>-2969.027</td>\n",
       "      <td>-2969.333</td>\n",
       "      <td>-2969.648</td>\n",
       "      <td>-2969.947</td>\n",
       "    </tr>\n",
       "    <tr>\n",
       "      <th>198</th>\n",
       "      <td>-907.2341</td>\n",
       "      <td>-1226.295</td>\n",
       "      <td>-1362.462</td>\n",
       "      <td>-1451.026</td>\n",
       "      <td>-1516.905</td>\n",
       "      <td>-1569.416</td>\n",
       "      <td>-1613.093</td>\n",
       "      <td>-1650.491</td>\n",
       "      <td>-1683.193</td>\n",
       "      <td>-1712.251</td>\n",
       "      <td>...</td>\n",
       "      <td>-2967.189</td>\n",
       "      <td>-2967.495</td>\n",
       "      <td>-2967.796</td>\n",
       "      <td>-2968.115</td>\n",
       "      <td>-2968.413</td>\n",
       "      <td>-2968.728</td>\n",
       "      <td>-2969.027</td>\n",
       "      <td>-2969.333</td>\n",
       "      <td>-2969.648</td>\n",
       "      <td>-2969.947</td>\n",
       "    </tr>\n",
       "    <tr>\n",
       "      <th>199</th>\n",
       "      <td>-907.2341</td>\n",
       "      <td>-1226.295</td>\n",
       "      <td>-1362.462</td>\n",
       "      <td>-1451.026</td>\n",
       "      <td>-1516.905</td>\n",
       "      <td>-1569.416</td>\n",
       "      <td>-1613.093</td>\n",
       "      <td>-1650.491</td>\n",
       "      <td>-1683.193</td>\n",
       "      <td>-1712.251</td>\n",
       "      <td>...</td>\n",
       "      <td>-2967.189</td>\n",
       "      <td>-2967.495</td>\n",
       "      <td>-2967.796</td>\n",
       "      <td>-2968.115</td>\n",
       "      <td>-2968.413</td>\n",
       "      <td>-2968.728</td>\n",
       "      <td>-2969.027</td>\n",
       "      <td>-2969.333</td>\n",
       "      <td>-2969.648</td>\n",
       "      <td>-2969.947</td>\n",
       "    </tr>\n",
       "  </tbody>\n",
       "</table>\n",
       "<p>200 rows × 1000 columns</p>\n",
       "</div>"
      ],
      "text/plain": [
       "          0         1         2         3         4         5         6    \\\n",
       "0   -907.2341 -1226.295 -1362.462 -1451.026 -1516.905 -1569.416 -1613.093   \n",
       "1   -907.2341 -1226.295 -1362.462 -1451.026 -1516.905 -1569.416 -1613.093   \n",
       "2   -907.2341 -1226.295 -1362.462 -1451.026 -1516.905 -1569.416 -1613.093   \n",
       "3   -907.2341 -1226.295 -1362.462 -1451.026 -1516.905 -1569.416 -1613.093   \n",
       "4   -907.2341 -1226.295 -1362.462 -1451.026 -1516.905 -1569.416 -1613.093   \n",
       "..        ...       ...       ...       ...       ...       ...       ...   \n",
       "195 -907.2341 -1226.295 -1362.462 -1451.026 -1516.905 -1569.416 -1613.093   \n",
       "196 -907.2341 -1226.295 -1362.462 -1451.026 -1516.905 -1569.416 -1613.093   \n",
       "197 -907.2341 -1226.295 -1362.462 -1451.026 -1516.905 -1569.416 -1613.093   \n",
       "198 -907.2341 -1226.295 -1362.462 -1451.026 -1516.905 -1569.416 -1613.093   \n",
       "199 -907.2341 -1226.295 -1362.462 -1451.026 -1516.905 -1569.416 -1613.093   \n",
       "\n",
       "          7         8         9    ...       990       991       992  \\\n",
       "0   -1650.491 -1683.193 -1712.251  ... -2967.189 -2967.495 -2967.796   \n",
       "1   -1650.491 -1683.193 -1712.251  ... -2967.189 -2967.495 -2967.796   \n",
       "2   -1650.491 -1683.193 -1712.251  ... -2967.189 -2967.495 -2967.796   \n",
       "3   -1650.491 -1683.193 -1712.251  ... -2967.189 -2967.495 -2967.796   \n",
       "4   -1650.491 -1683.193 -1712.251  ... -2967.189 -2967.495 -2967.796   \n",
       "..        ...       ...       ...  ...       ...       ...       ...   \n",
       "195 -1650.491 -1683.193 -1712.251  ... -2967.189 -2967.495 -2967.796   \n",
       "196 -1650.491 -1683.193 -1712.251  ... -2967.189 -2967.495 -2967.796   \n",
       "197 -1650.491 -1683.193 -1712.251  ... -2967.189 -2967.495 -2967.796   \n",
       "198 -1650.491 -1683.193 -1712.251  ... -2967.189 -2967.495 -2967.796   \n",
       "199 -1650.491 -1683.193 -1712.251  ... -2967.189 -2967.495 -2967.796   \n",
       "\n",
       "          993       994       995       996       997       998       999  \n",
       "0   -2968.115 -2968.413 -2968.728 -2969.027 -2969.333 -2969.648 -2969.947  \n",
       "1   -2968.115 -2968.413 -2968.728 -2969.027 -2969.333 -2969.648 -2969.947  \n",
       "2   -2968.115 -2968.413 -2968.728 -2969.027 -2969.333 -2969.648 -2969.947  \n",
       "3   -2968.115 -2968.413 -2968.728 -2969.027 -2969.333 -2969.648 -2969.947  \n",
       "4   -2968.115 -2968.413 -2968.728 -2969.027 -2969.333 -2969.648 -2969.947  \n",
       "..        ...       ...       ...       ...       ...       ...       ...  \n",
       "195 -2968.115 -2968.413 -2968.728 -2969.027 -2969.333 -2969.648 -2969.947  \n",
       "196 -2968.115 -2968.413 -2968.728 -2969.027 -2969.333 -2969.648 -2969.947  \n",
       "197 -2968.115 -2968.413 -2968.728 -2969.027 -2969.333 -2969.648 -2969.947  \n",
       "198 -2968.115 -2968.413 -2968.728 -2969.027 -2969.333 -2969.648 -2969.947  \n",
       "199 -2968.115 -2968.413 -2968.728 -2969.027 -2969.333 -2969.648 -2969.947  \n",
       "\n",
       "[200 rows x 1000 columns]"
      ]
     },
     "execution_count": 104,
     "metadata": {},
     "output_type": "execute_result"
    }
   ],
   "source": [
    "a=pd.read_csv(arr,header=None)\n",
    "a=a.fillna(0)\n",
    "a"
   ]
  },
  {
   "cell_type": "code",
   "execution_count": 105,
   "id": "9d21702d",
   "metadata": {},
   "outputs": [],
   "source": [
    "x=np.array(a)"
   ]
  },
  {
   "cell_type": "code",
   "execution_count": 106,
   "id": "75412798",
   "metadata": {},
   "outputs": [],
   "source": [
    "lst=[]\n",
    "for i in range(100):\n",
    "    lst.append(-70/2+i*70/(100-1))"
   ]
  },
  {
   "cell_type": "code",
   "execution_count": 107,
   "id": "1c45c3cc",
   "metadata": {},
   "outputs": [],
   "source": [
    "lst_cos=np.cos(np.deg2rad(np.array(lst)))\n",
    "lst_sin=np.sin(np.deg2rad(np.array(lst)))\n",
    "#l_c=np.dot(x,lst_cos)\n",
    "#l_s=np.dot(x,lst_sin)"
   ]
  },
  {
   "cell_type": "code",
   "execution_count": 108,
   "id": "2149bf5d",
   "metadata": {},
   "outputs": [],
   "source": [
    "lst_cos_2=lst_cos.reshape([100,1])\n",
    "lst_sin_2=lst_sin.reshape([100,1])"
   ]
  },
  {
   "cell_type": "code",
   "execution_count": 109,
   "id": "cb500395",
   "metadata": {},
   "outputs": [],
   "source": [
    "tra=np.dot(lst_cos_2,lst_sin_2.T)"
   ]
  },
  {
   "cell_type": "code",
   "execution_count": 110,
   "id": "ab9c6138",
   "metadata": {},
   "outputs": [
    {
     "data": {
      "text/plain": [
       "array([[-0.46984631, -0.46153   , -0.45314341, ...,  0.45314341,\n",
       "         0.46153   ,  0.46984631],\n",
       "       [-0.4738704 , -0.46548287, -0.45702444, ...,  0.45702444,\n",
       "         0.46548287,  0.4738704 ],\n",
       "       [-0.47782232, -0.46936484, -0.46083588, ...,  0.46083588,\n",
       "         0.46936484,  0.47782232],\n",
       "       ...,\n",
       "       [-0.47782232, -0.46936484, -0.46083588, ...,  0.46083588,\n",
       "         0.46936484,  0.47782232],\n",
       "       [-0.4738704 , -0.46548287, -0.45702444, ...,  0.45702444,\n",
       "         0.46548287,  0.4738704 ],\n",
       "       [-0.46984631, -0.46153   , -0.45314341, ...,  0.45314341,\n",
       "         0.46153   ,  0.46984631]])"
      ]
     },
     "execution_count": 110,
     "metadata": {},
     "output_type": "execute_result"
    }
   ],
   "source": [
    "tra"
   ]
  },
  {
   "cell_type": "code",
   "execution_count": 111,
   "id": "999bfb40",
   "metadata": {},
   "outputs": [
    {
     "data": {
      "text/plain": [
       "<matplotlib.image.AxesImage at 0x21d77c693a0>"
      ]
     },
     "execution_count": 111,
     "metadata": {},
     "output_type": "execute_result"
    },
    {
     "data": {
      "image/png": "[encoded data removed]",
      "text/plain": [
       "<Figure size 1440x1440 with 1 Axes>"
      ]
     },
     "metadata": {
      "needs_background": "light"
     },
     "output_type": "display_data"
    }
   ],
   "source": [
    "plt.figure(figsize=(20,20))\n",
    "plt.imshow(x,cmap=\"gray_r\")"
   ]
  },
  {
   "cell_type": "code",
   "execution_count": 45,
   "id": "0f7e8397",
   "metadata": {},
   "outputs": [
    {
     "data": {
      "text/plain": [
       "<matplotlib.image.AxesImage at 0x21d77a3e730>"
      ]
     },
     "execution_count": 45,
     "metadata": {},
     "output_type": "execute_result"
    },
    {
     "data": {
      "image/png": "[encoded data removed]",
      "text/plain": [
       "<Figure size 1440x1440 with 1 Axes>"
      ]
     },
     "metadata": {
      "needs_background": "light"
     },
     "output_type": "display_data"
    }
   ],
   "source": [
    "y=cv2.imread(op+\"\\\\\"+arr.split(\"\\\\\")[-1].split(\"_\")[0]+\".png\",0)\n",
    "plt.figure(figsize=(20,20))\n",
    "r,t=cv2.threshold(y,0,255,cv2.THRESH_BINARY_INV+cv2.THRESH_OTSU)\n",
    "plt.imshow(t,cmap=\"gray_r\")"
   ]
  },
  {
   "cell_type": "code",
   "execution_count": 27,
   "id": "4bc0ba01",
   "metadata": {},
   "outputs": [
    {
     "data": {
      "text/plain": [
       "array([[[ 33,  33,  33],\n",
       "        [ 71,  71,  71],\n",
       "        [ 86,  86,  86],\n",
       "        ...,\n",
       "        [200, 200, 200],\n",
       "        [201, 201, 201],\n",
       "        [201, 201, 201]],\n",
       "\n",
       "       [[ 33,  33,  33],\n",
       "        [ 71,  71,  71],\n",
       "        [ 86,  86,  86],\n",
       "        ...,\n",
       "        [200, 200, 200],\n",
       "        [201, 201, 201],\n",
       "        [201, 201, 201]],\n",
       "\n",
       "       [[ 33,  33,  33],\n",
       "        [ 71,  71,  71],\n",
       "        [ 86,  86,  86],\n",
       "        ...,\n",
       "        [200, 200, 200],\n",
       "        [201, 201, 201],\n",
       "        [201, 201, 201]],\n",
       "\n",
       "       ...,\n",
       "\n",
       "       [[ 33,  33,  33],\n",
       "        [ 71,  71,  71],\n",
       "        [ 86,  86,  86],\n",
       "        ...,\n",
       "        [200, 200, 200],\n",
       "        [201, 201, 201],\n",
       "        [201, 201, 201]],\n",
       "\n",
       "       [[ 33,  33,  33],\n",
       "        [ 71,  71,  71],\n",
       "        [ 86,  86,  86],\n",
       "        ...,\n",
       "        [200, 200, 200],\n",
       "        [201, 201, 201],\n",
       "        [201, 201, 201]],\n",
       "\n",
       "       [[ 33,  33,  33],\n",
       "        [ 71,  71,  71],\n",
       "        [ 86,  86,  86],\n",
       "        ...,\n",
       "        [200, 200, 200],\n",
       "        [201, 201, 201],\n",
       "        [201, 201, 201]]], dtype=uint8)"
      ]
     },
     "execution_count": 27,
     "metadata": {},
     "output_type": "execute_result"
    }
   ],
   "source": []
  },
  {
   "cell_type": "code",
   "execution_count": 46,
   "id": "9fa18c35",
   "metadata": {},
   "outputs": [
    {
     "ename": "error",
     "evalue": "OpenCV(4.5.5) :-1: error: (-5:Bad argument) in function 'threshold'\n> Overload resolution failed:\n>  - threshold() missing required argument 'type' (pos 4)\n>  - threshold() missing required argument 'type' (pos 4)\n",
     "output_type": "error",
     "traceback": [
      "\u001b[1;31m---------------------------------------------------------------------------\u001b[0m",
      "\u001b[1;31merror\u001b[0m                                     Traceback (most recent call last)",
      "\u001b[1;32m~\\AppData\\Local\\Temp/ipykernel_16516/1755805949.py\u001b[0m in \u001b[0;36m<module>\u001b[1;34m\u001b[0m\n\u001b[1;32m----> 1\u001b[1;33m \u001b[0mr\u001b[0m\u001b[1;33m,\u001b[0m\u001b[0mt\u001b[0m\u001b[1;33m=\u001b[0m\u001b[0mcv2\u001b[0m\u001b[1;33m.\u001b[0m\u001b[0mthreshold\u001b[0m\u001b[1;33m(\u001b[0m\u001b[0mx\u001b[0m\u001b[1;33m,\u001b[0m\u001b[1;36m250\u001b[0m\u001b[1;33m,\u001b[0m\u001b[1;36m255\u001b[0m\u001b[1;33m)\u001b[0m\u001b[1;33m\u001b[0m\u001b[1;33m\u001b[0m\u001b[0m\n\u001b[0m\u001b[0;32m      2\u001b[0m \u001b[0mplt\u001b[0m\u001b[1;33m.\u001b[0m\u001b[0mfigure\u001b[0m\u001b[1;33m(\u001b[0m\u001b[0mfigsize\u001b[0m\u001b[1;33m=\u001b[0m\u001b[1;33m(\u001b[0m\u001b[1;36m20\u001b[0m\u001b[1;33m,\u001b[0m\u001b[1;36m20\u001b[0m\u001b[1;33m)\u001b[0m\u001b[1;33m)\u001b[0m\u001b[1;33m\u001b[0m\u001b[1;33m\u001b[0m\u001b[0m\n\u001b[0;32m      3\u001b[0m \u001b[0mplt\u001b[0m\u001b[1;33m.\u001b[0m\u001b[0mimshow\u001b[0m\u001b[1;33m(\u001b[0m\u001b[0mx\u001b[0m\u001b[1;33m,\u001b[0m\u001b[0mcmap\u001b[0m\u001b[1;33m=\u001b[0m\u001b[1;34m\"gray_r\"\u001b[0m\u001b[1;33m)\u001b[0m\u001b[1;33m\u001b[0m\u001b[1;33m\u001b[0m\u001b[0m\n",
      "\u001b[1;31merror\u001b[0m: OpenCV(4.5.5) :-1: error: (-5:Bad argument) in function 'threshold'\n> Overload resolution failed:\n>  - threshold() missing required argument 'type' (pos 4)\n>  - threshold() missing required argument 'type' (pos 4)\n"
     ]
    }
   ],
   "source": [
    "r,t=cv2.threshold(x,250,255)\n"
   ]
  },
  {
   "cell_type": "code",
   "execution_count": 149,
   "id": "dcb160fc",
   "metadata": {},
   "outputs": [],
   "source": [
    "from skimage.transform import warp_polar\n",
    "import cv2 as cv\n",
    "z=cv.warpPolar(x[25:75,:], (50, 180), (0, 50), 50, cv.INTER_LINEAR + cv.WARP_POLAR_LINEAR)\n",
    "y=warp_polar(x[:,25:75], radius=50,center=[50,0],output_shape=[180,100])"
   ]
  },
  {
   "cell_type": "code",
   "execution_count": 150,
   "id": "2c410fea",
   "metadata": {},
   "outputs": [
    {
     "data": {
      "text/plain": [
       "<matplotlib.image.AxesImage at 0x1fdd9319bb0>"
      ]
     },
     "execution_count": 150,
     "metadata": {},
     "output_type": "execute_result"
    },
    {
     "name": "stderr",
     "output_type": "stream",
     "text": [
      "C:\\ProgramData\\Anaconda3\\lib\\site-packages\\matplotlib\\image.py:446: RuntimeWarning: overflow encountered in double_scalars\n",
      "  newmin = vmid - dv * fact\n",
      "C:\\ProgramData\\Anaconda3\\lib\\site-packages\\matplotlib\\image.py:451: RuntimeWarning: overflow encountered in double_scalars\n",
      "  newmax = vmid + dv * fact\n"
     ]
    },
    {
     "data": {
      "image/png": "[encoded data removed]",
      "text/plain": [
       "<Figure size 1440x1440 with 1 Axes>"
      ]
     },
     "metadata": {
      "needs_background": "light"
     },
     "output_type": "display_data"
    }
   ],
   "source": [
    "plt.figure(figsize=(20,20))\n",
    "plt.imshow(z,cmap=\"gray\")"
   ]
  },
  {
   "cell_type": "code",
   "execution_count": 79,
   "id": "095f6aac",
   "metadata": {},
   "outputs": [
    {
     "data": {
      "text/plain": [
       "array([49.5, 49.5])"
      ]
     },
     "execution_count": 79,
     "metadata": {},
     "output_type": "execute_result"
    }
   ],
   "source": [
    "(np.array(x.shape)[:2] / 2) - 0.5"
   ]
  },
  {
   "cell_type": "code",
   "execution_count": 44,
   "id": "73b3a611",
   "metadata": {},
   "outputs": [
    {
     "name": "stderr",
     "output_type": "stream",
     "text": [
      "C:\\Users\\abuba\\AppData\\Local\\Temp/ipykernel_9528/1479748123.py:50: DeprecationWarning: `np.object` is a deprecated alias for the builtin `object`. To silence this warning, use `object` by itself. Doing this will not modify any behavior and is safe. \n",
      "Deprecated in NumPy 1.20; for more details and guidance: https://numpy.org/devdocs/release/1.20.0-notes.html#deprecations\n",
      "  axes = np.zeros((2, 4), dtype=np.object)\n"
     ]
    },
    {
     "ename": "NameError",
     "evalue": "name 'img_adapteq' is not defined",
     "output_type": "error",
     "traceback": [
      "\u001b[1;31m---------------------------------------------------------------------------\u001b[0m",
      "\u001b[1;31mNameError\u001b[0m                                 Traceback (most recent call last)",
      "\u001b[1;32m~\\AppData\\Local\\Temp/ipykernel_9528/1479748123.py\u001b[0m in \u001b[0;36m<module>\u001b[1;34m\u001b[0m\n\u001b[0;32m     68\u001b[0m \u001b[0max_img\u001b[0m\u001b[1;33m.\u001b[0m\u001b[0mset_title\u001b[0m\u001b[1;33m(\u001b[0m\u001b[1;34m'Histogram equalization'\u001b[0m\u001b[1;33m)\u001b[0m\u001b[1;33m\u001b[0m\u001b[1;33m\u001b[0m\u001b[0m\n\u001b[0;32m     69\u001b[0m \u001b[1;33m\u001b[0m\u001b[0m\n\u001b[1;32m---> 70\u001b[1;33m \u001b[0max_img\u001b[0m\u001b[1;33m,\u001b[0m \u001b[0max_hist\u001b[0m\u001b[1;33m,\u001b[0m \u001b[0max_cdf\u001b[0m \u001b[1;33m=\u001b[0m \u001b[0mplot_img_and_hist\u001b[0m\u001b[1;33m(\u001b[0m\u001b[0mimg_adapteq\u001b[0m\u001b[1;33m,\u001b[0m \u001b[0maxes\u001b[0m\u001b[1;33m[\u001b[0m\u001b[1;33m:\u001b[0m\u001b[1;33m,\u001b[0m \u001b[1;36m3\u001b[0m\u001b[1;33m]\u001b[0m\u001b[1;33m)\u001b[0m\u001b[1;33m\u001b[0m\u001b[1;33m\u001b[0m\u001b[0m\n\u001b[0m\u001b[0;32m     71\u001b[0m \u001b[0max_img\u001b[0m\u001b[1;33m.\u001b[0m\u001b[0mset_title\u001b[0m\u001b[1;33m(\u001b[0m\u001b[1;34m'Adaptive equalization'\u001b[0m\u001b[1;33m)\u001b[0m\u001b[1;33m\u001b[0m\u001b[1;33m\u001b[0m\u001b[0m\n\u001b[0;32m     72\u001b[0m \u001b[1;33m\u001b[0m\u001b[0m\n",
      "\u001b[1;31mNameError\u001b[0m: name 'img_adapteq' is not defined"
     ]
    },
    {
     "data": {
      "image/png": "[encoded data removed]",
      "text/plain": [
       "<Figure size 576x360 with 11 Axes>"
      ]
     },
     "metadata": {
      "needs_background": "light"
     },
     "output_type": "display_data"
    }
   ],
   "source": [
    "from skimage import data, img_as_float\n",
    "from skimage import exposure\n",
    "import matplotlib\n",
    "\n",
    "matplotlib.rcParams['font.size'] = 8\n",
    "\n",
    "\n",
    "def plot_img_and_hist(image, axes, bins=256):\n",
    "    \"\"\"Plot an image along with its histogram and cumulative histogram.\n",
    "\n",
    "    \"\"\"\n",
    "    image = img_as_float(image)\n",
    "    ax_img, ax_hist = axes\n",
    "    ax_cdf = ax_hist.twinx()\n",
    "\n",
    "    # Display image\n",
    "    ax_img.imshow(image, cmap=plt.cm.gray)\n",
    "    ax_img.set_axis_off()\n",
    "\n",
    "    # Display histogram\n",
    "    ax_hist.hist(image.ravel(), bins=bins, histtype='step', color='black')\n",
    "    ax_hist.ticklabel_format(axis='y', style='scientific', scilimits=(0, 0))\n",
    "    ax_hist.set_xlabel('Pixel intensity')\n",
    "    ax_hist.set_xlim(0, 1)\n",
    "    ax_hist.set_yticks([])\n",
    "\n",
    "    # Display cumulative distribution\n",
    "    img_cdf, bins = exposure.cumulative_distribution(image, bins)\n",
    "    ax_cdf.plot(bins, img_cdf, 'r')\n",
    "    ax_cdf.set_yticks([])\n",
    "\n",
    "    return ax_img, ax_hist, ax_cdf\n",
    "\n",
    "\n",
    "# Load an example image\n",
    "img = x\n",
    "\n",
    "# Contrast stretching\n",
    "p2, p98 = np.percentile(img, (2, 98))\n",
    "img_rescale = exposure.rescale_intensity(img, in_range=(p2, p98))\n",
    "\n",
    "# Equalization\n",
    "img_eq = exposure.equalize_hist(img)\n",
    "\n",
    "# Adaptive Equalization\n",
    "#img_adapteq = exposure.equalize_adapthist(img, clip_limit=0.03)\n",
    "\n",
    "# Display results\n",
    "fig = plt.figure(figsize=(8, 5))\n",
    "axes = np.zeros((2, 4), dtype=np.object)\n",
    "axes[0, 0] = fig.add_subplot(2, 4, 1)\n",
    "for i in range(1, 4):\n",
    "    axes[0, i] = fig.add_subplot(2, 4, 1+i, sharex=axes[0,0], sharey=axes[0,0])\n",
    "for i in range(0, 4):\n",
    "    axes[1, i] = fig.add_subplot(2, 4, 5+i)\n",
    "\n",
    "ax_img, ax_hist, ax_cdf = plot_img_and_hist(img, axes[:, 0])\n",
    "ax_img.set_title('Low contrast image')\n",
    "\n",
    "y_min, y_max = ax_hist.get_ylim()\n",
    "ax_hist.set_ylabel('Number of pixels')\n",
    "ax_hist.set_yticks(np.linspace(0, y_max, 5))\n",
    "\n",
    "ax_img, ax_hist, ax_cdf = plot_img_and_hist(img_rescale, axes[:, 1])\n",
    "ax_img.set_title('Contrast stretching')\n",
    "\n",
    "ax_img, ax_hist, ax_cdf = plot_img_and_hist(img_eq, axes[:, 2])\n",
    "ax_img.set_title('Histogram equalization')\n",
    "\n",
    "ax_img, ax_hist, ax_cdf = plot_img_and_hist(img_adapteq, axes[:, 3])\n",
    "ax_img.set_title('Adaptive equalization')\n",
    "\n",
    "ax_cdf.set_ylabel('Fraction of total intensity')\n",
    "ax_cdf.set_yticks(np.linspace(0, 1, 5))\n",
    "\n",
    "# prevent overlap of y-axis labels\n",
    "fig.tight_layout()\n",
    "plt.show()"
   ]
  },
  {
   "cell_type": "code",
   "execution_count": 17,
   "id": "3170f317",
   "metadata": {},
   "outputs": [
    {
     "ename": "NameError",
     "evalue": "name 'img_eq' is not defined",
     "output_type": "error",
     "traceback": [
      "\u001b[1;31m---------------------------------------------------------------------------\u001b[0m",
      "\u001b[1;31mNameError\u001b[0m                                 Traceback (most recent call last)",
      "\u001b[1;32m~\\AppData\\Local\\Temp/ipykernel_11612/1287761389.py\u001b[0m in \u001b[0;36m<module>\u001b[1;34m\u001b[0m\n\u001b[0;32m      1\u001b[0m \u001b[0mplt\u001b[0m\u001b[1;33m.\u001b[0m\u001b[0mfigure\u001b[0m\u001b[1;33m(\u001b[0m\u001b[0mfigsize\u001b[0m\u001b[1;33m=\u001b[0m\u001b[1;33m(\u001b[0m\u001b[1;36m20\u001b[0m\u001b[1;33m,\u001b[0m\u001b[1;36m20\u001b[0m\u001b[1;33m)\u001b[0m\u001b[1;33m)\u001b[0m\u001b[1;33m\u001b[0m\u001b[1;33m\u001b[0m\u001b[0m\n\u001b[1;32m----> 2\u001b[1;33m \u001b[0mplt\u001b[0m\u001b[1;33m.\u001b[0m\u001b[0mimshow\u001b[0m\u001b[1;33m(\u001b[0m\u001b[0mimg_eq\u001b[0m\u001b[1;33m,\u001b[0m\u001b[1;34m\"gray\"\u001b[0m\u001b[1;33m)\u001b[0m\u001b[1;33m\u001b[0m\u001b[1;33m\u001b[0m\u001b[0m\n\u001b[0m",
      "\u001b[1;31mNameError\u001b[0m: name 'img_eq' is not defined"
     ]
    },
    {
     "data": {
      "text/plain": [
       "<Figure size 1440x1440 with 0 Axes>"
      ]
     },
     "metadata": {},
     "output_type": "display_data"
    }
   ],
   "source": [
    "plt.figure(figsize=(20,20))\n",
    "plt.imshow(img_eq,\"gray\")"
   ]
  },
  {
   "cell_type": "code",
   "execution_count": 33,
   "id": "728bfbfe",
   "metadata": {},
   "outputs": [],
   "source": [
    "fourcc = cv2.VideoWriter_fourcc(*'mp4v') \n",
    "video = cv2.VideoWriter('video_5.avi', fourcc, 2, (100, 100))\n",
    "\n",
    "for j in sorted(glob((\"220722_032104_output/*\"))):\n",
    "    img = cv2.imread(j)\n",
    "    video.write(img)\n",
    "video.release()"
   ]
  },
  {
   "cell_type": "markdown",
   "id": "128ad5d7",
   "metadata": {},
   "source": [
    "# New Implementation"
   ]
  },
  {
   "cell_type": "code",
   "execution_count": 40,
   "id": "7df76f5d",
   "metadata": {},
   "outputs": [],
   "source": [
    "arrays=sorted(glob(\"291222_042642 Cube (1)/*.json\"))"
   ]
  },
  {
   "cell_type": "code",
   "execution_count": null,
   "id": "a36cd0bf",
   "metadata": {},
   "outputs": [],
   "source": [
    "f = open(arrays[-1])\n",
    "data = json.load(f)"
   ]
  },
  {
   "cell_type": "code",
   "execution_count": 5,
   "id": "be6b1ce0",
   "metadata": {},
   "outputs": [],
   "source": [
    "l1=[]\n",
    "l2=[]\n",
    "for x in range(80*512):\n",
    "    l1.append(x)\n",
    "    if x not in data[\"instances\"]:\n",
    "        l2.append(0)\n",
    "    else:\n",
    "        \n",
    "        l2.append(data[\"Values\"][data[\"instances\"].index(x)])\n",
    "    "
   ]
  },
  {
   "cell_type": "code",
   "execution_count": 27,
   "id": "d8ab9de9",
   "metadata": {},
   "outputs": [],
   "source": [
    "bins=[]\n",
    "e=10**-5\n",
    "for x in range(512):\n",
    "    a1,b1=np.histogram(l2[80*(x):80*(x+1)],50,range=[e,12])\n",
    "   \n",
    "    c1=a1.reshape(50,1)\n",
    "    bins.append(c1)"
   ]
  },
  {
   "cell_type": "code",
   "execution_count": 31,
   "id": "007a3001",
   "metadata": {},
   "outputs": [
    {
     "data": {
      "text/plain": [
       "(50, 512)"
      ]
     },
     "execution_count": 31,
     "metadata": {},
     "output_type": "execute_result"
    }
   ],
   "source": [
    "x=np.concatenate(bins,axis=1)\n",
    "x.shape"
   ]
  },
  {
   "cell_type": "code",
   "execution_count": 33,
   "id": "a9a6a24a",
   "metadata": {},
   "outputs": [
    {
     "data": {
      "image/png": "[encoded data removed]",
      "text/plain": [
       "<Figure size 1080x1080 with 1 Axes>"
      ]
     },
     "metadata": {
      "needs_background": "light"
     },
     "output_type": "display_data"
    }
   ],
   "source": [
    "plt.figure(figsize=(15,15))\n",
    "plt.imshow(cv2.resize(x.astype(np.uint8),(500,500)),cmap=\"gray\")\n",
    "plt.savefig(\"C:\\\\Users\\\\abuba\\\\Desktop\\\\img.jpg\")"
   ]
  },
  {
   "cell_type": "code",
   "execution_count": 42,
   "id": "850126d9",
   "metadata": {},
   "outputs": [],
   "source": [
    "def c(T=25,S=0.01,z=2):\n",
    "    if((0<T and T<=35) and (0<S and S<=45)and (0<z and z<=1000)):\n",
    "        c_val=1449.2+4.6*T-0.055*T**2+0.00029*T**3+(1.34-0.01*T)*(S-35)+0.016*z\n",
    "        return c_val\n",
    "    else:\n",
    "        print(\"Check values\")\n",
    "        return -1"
   ]
  },
  {
   "cell_type": "code",
   "execution_count": 45,
   "id": "8f867019",
   "metadata": {},
   "outputs": [],
   "source": [
    "c_calc=c()"
   ]
  },
  {
   "cell_type": "code",
   "execution_count": null,
   "id": "6d58143f",
   "metadata": {},
   "outputs": [],
   "source": [
    "def a_w(c_val=c_calc,ph=7,S=45,z_max=4):\n",
    "    \n",
    "    A1=(8.696/c_val)*10**(0.78*ph-5)\n",
    "    f1=2.8*np.sqrt(S/35)*10**(4-(1245/(T+273)))\n",
    "    P1=1\n",
    "    \n",
    "    A2=21.44*(S/c_val)*(1+0.0024*T)\n",
    "    f2=(8.17*10**(8-1990/(T+273)))/(1+0.0018*(S-35))\n",
    "    P2=1-1.37*z_max*10**-4+6.2*(z_max**2)*(10**-9)\n",
    "    \n",
    "    if(T<=20):\n",
    "        A3=4.937+(10**-4)-2.59*(10**-5)*T+9.11*(10**-7)*(T**2)-1.5*(10**-8)*(T**3)\n",
    "    else:\n",
    "        A3=3.964+(10**-4)-1.146*(10**-5)*T+1.45*(10**-7)*(T**2)-6.5*(10**-10)*(T**3)\n",
    "    P3=1-3.83*z_max*10**-5+4.9*(z_max**2)*(10**-10)"
   ]
  }
 ],
 "metadata": {
  "kernelspec": {
   "display_name": "Python 3 (ipykernel)",
   "language": "python",
   "name": "python3"
  },
  "language_info": {
   "codemirror_mode": {
    "name": "ipython",
    "version": 3
   },
   "file_extension": ".py",
   "mimetype": "text/x-python",
   "name": "python",
   "nbconvert_exporter": "python",
   "pygments_lexer": "ipython3",
   "version": "3.9.7"
  }
 },
 "nbformat": 4,
 "nbformat_minor": 5
}
